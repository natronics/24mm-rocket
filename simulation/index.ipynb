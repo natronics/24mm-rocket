{
 "cells": [
  {
   "cell_type": "raw",
   "metadata": {},
   "source": [
    "---\n",
    "title: \"24mm Rocket: OpenRocket Simulation\"\n",
    "---\n"
   ]
  },
  {
   "cell_type": "markdown",
   "metadata": {},
   "source": [
    "OpenRocket Simulation\n",
    "=====================\n",
    "\n",
    "Basic flights of the rocket are simulated in [OpenRocket][openrocket]\n",
    "\n",
    " - Download: [24mm_minimum_dia.ork](https://github.com/natronics/24mm-rocket/raw/master/simulation/24mm_minimum_dia.ork)\n",
    "\n",
    "**Table of Contents:**\n",
    "\n",
    "* Table of Contents\n",
    "{:toc}\n",
    "\n",
    "[openrocket]: http://openrocket.info/"
   ]
  },
  {
   "cell_type": "markdown",
   "metadata": {},
   "source": [
    "Drawing\n",
    "-------\n",
    "\n",
    "Diagram of the OpenRocket design:"
   ]
  },
  {
   "cell_type": "code",
   "execution_count": null,
   "metadata": {
    "collapsed": false
   },
   "outputs": [],
   "source": [
    "from openrocketdoc import loaders\n",
    "from openrocketdoc import writers\n",
    "from IPython.display import SVG\n",
    "\n",
    "ork = loaders.Openrocket()\n",
    "rocket = ork.load('24mm_minimum_dia.ork')\n",
    "svg = writers.SVG.dump(rocket)\n",
    "\n",
    "SVG(svg)"
   ]
  },
  {
   "cell_type": "markdown",
   "metadata": {},
   "source": [
    "Flight Characteristics\n",
    "----------------------\n",
    "\n"
   ]
  },
  {
   "cell_type": "code",
   "execution_count": null,
   "metadata": {
    "collapsed": false
   },
   "outputs": [],
   "source": [
    "# load csv data\n",
    "time = []\n",
    "altitude = []\n",
    "velocity = []\n",
    "acceleration = []\n",
    "with open('56-F31-12A_openrocketsim.csv', 'r') as fin:\n",
    "    for line in fin:\n",
    "        if line[0] == '#':\n",
    "            continue\n",
    "        li = line.split(',')\n",
    "        time.append(        float(li[0]))\n",
    "        altitude.append(    float(li[1]))\n",
    "        velocity.append(    float(li[2]))\n",
    "        acceleration.append(float(li[3]) + 1.0)"
   ]
  },
  {
   "cell_type": "code",
   "execution_count": null,
   "metadata": {
    "collapsed": false
   },
   "outputs": [],
   "source": [
    "print(\"The empty rocket (no motor parts) weighs %0.1f grams.\" % (rocket.mass * 1000.0))"
   ]
  },
  {
   "cell_type": "code",
   "execution_count": null,
   "metadata": {
    "collapsed": false
   },
   "outputs": [],
   "source": [
    "print(\"\"\"Flying on a **[CTI 56-F31-12A](http://www.thrustcurve.org/motorsearch.jsp?id=1041)**\n",
    "would expect and altitude of %0.0f meters.\"\"\" % (max(altitude)))"
   ]
  },
  {
   "cell_type": "code",
   "execution_count": null,
   "metadata": {
    "collapsed": false
   },
   "outputs": [],
   "source": [
    "import matplotlib.pyplot as plt\n",
    "%matplotlib inline\n",
    "\n",
    "red = \"#941e56\"\n",
    "green = \"#22b464\"\n",
    "blue = \"#4a73e1\"\n",
    "\n",
    "\n",
    "xlm = [-0.6,16]\n",
    "fig, ax1 = plt.subplots(figsize=(16,7))\n",
    "plt.title(r\"OpenRocket Simulation On CTI 56-F31-12A Motor\")\n",
    "plt.ylabel(r\"Altitude AGL [m]\")\n",
    "plt.xlabel(r\"Time [s]\")\n",
    "\n",
    "plt.plot(time, altitude, color=red, lw=2.0, alpha=0.8, label=u\"Altitude [m]\")\n",
    "plt.plot([-10,-11], [-100,-200], color=green, lw=1.3, alpha=0.8, label=u\"Velocity [m/s]\")\n",
    "plt.plot([-10,-11], [-100,-200], color=blue, lw=1.0, alpha=0.6, label=u\"Acceleration [g]\")\n",
    "\n",
    "plt.ylim([0,1200])\n",
    "plt.xlim(xlm)\n",
    "\n",
    "ax2 = ax1.twinx()\n",
    "#ax2.set_ylabel(r\"Velocity [m/s]\")\n",
    "plt.plot(time, velocity, color=green, lw=1.3, alpha=0.8, label=u\"Velocity\")\n",
    "\n",
    "maxalt = 240\n",
    "plt.yticks([i for i in range(0,int(maxalt+1),int(maxalt/6))])\n",
    "\n",
    "plt.ylim([0,maxalt])\n",
    "plt.xlim(xlm)\n",
    "ax2.get_yaxis().set_tick_params(direction='in', pad=-25)\n",
    "ax2.grid(b=False)\n",
    "plt.text(-0.4, 230, \"Velocity [m/s]\")\n",
    "\n",
    "#max vel:\n",
    "maxvel = max(velocity)\n",
    "idx = velocity.index(maxvel)\n",
    "ax2.annotate(\"Peak: %0.0f m/s (Mach %0.1f)\" % (maxvel, maxvel/340.0), xy=(time[idx], maxvel), xycoords='data',\n",
    "                xytext=(40, 10), textcoords='offset points',\n",
    "                arrowprops=dict(arrowstyle=\"->\",\n",
    "                                connectionstyle=\"angle3,angleA=0,angleB=-90\"),\n",
    "                )\n",
    "\n",
    "ax3 = ax2.twinx()\n",
    "ax3.set_ylabel(r\"Acceleration [g]\")\n",
    "\n",
    "plt.plot(time, acceleration, color=blue, lw=1.0, alpha=0.6)\n",
    "#max g:\n",
    "maxacc = max(acceleration)\n",
    "idx = acceleration.index(maxacc)\n",
    "ax3.annotate(u\"Peak: %0.1f g (%0.0f m/s²)\" % (maxacc, maxacc * 9.8), xy=(time[idx], maxacc), xycoords='data',\n",
    "                xytext=(25, 10), textcoords='offset points',\n",
    "                arrowprops=dict(arrowstyle=\"->\",\n",
    "                                connectionstyle=\"angle3,angleA=0,angleB=-90\"),\n",
    "                )\n",
    "\n",
    "#min g:\n",
    "minacc = min(acceleration)\n",
    "idx = acceleration.index(minacc)\n",
    "ax3.annotate(u\"Peak: %0.1f g (%0.0f m/s²)\" % (minacc, minacc * 9.8), xy=(time[idx], minacc), xycoords='data',\n",
    "                xytext=(30, -15), textcoords='offset points',\n",
    "                arrowprops=dict(arrowstyle=\"->\",\n",
    "                                connectionstyle=\"angle3,angleA=0,angleB=-90\"),\n",
    "                )\n",
    "ax3.set_ylim([-5,25])\n",
    "plt.xlim(xlm)\n",
    "ax3.grid(b=False)\n",
    "\n",
    "ax1.legend(loc=2, bbox_to_anchor=(0.4, 0.99))\n",
    "plt.show()"
   ]
  },
  {
   "cell_type": "markdown",
   "metadata": {},
   "source": []
  }
 ],
 "metadata": {
  "kernelspec": {
   "display_name": "Python 3",
   "language": "python",
   "name": "python3"
  },
  "language_info": {
   "codemirror_mode": {
    "name": "ipython",
    "version": 3
   },
   "file_extension": ".py",
   "mimetype": "text/x-python",
   "name": "python",
   "nbconvert_exporter": "python",
   "pygments_lexer": "ipython3",
   "version": "3.5.2+"
  }
 },
 "nbformat": 4,
 "nbformat_minor": 1
}
