{
 "cells": [
  {
   "cell_type": "raw",
   "metadata": {},
   "source": [
    "---\n",
    "title: \"24mm Rocket: OpenRocket Simulation\"\n",
    "---\n"
   ]
  },
  {
   "cell_type": "markdown",
   "metadata": {},
   "source": [
    "OpenRocket Simulation\n",
    "=====================\n",
    "\n",
    "Basic flights of the rocket are simulated in [OpenRocket][openrocket]\n",
    "\n",
    " - Download: [24mm_minimum_dia.ork](https://github.com/natronics/24mm-rocket/raw/master/simulation/24mm_minimum_dia.ork)\n",
    "\n",
    "**Table of Contents:**\n",
    "\n",
    "* Table of Contents\n",
    "{:toc}\n",
    "\n",
    "[openrocket]: http://openrocket.info/"
   ]
  },
  {
   "cell_type": "markdown",
   "metadata": {},
   "source": [
    "Drawing\n",
    "-------\n",
    "\n",
    "Diagram of the OpenRocket design:"
   ]
  },
  {
   "cell_type": "code",
   "execution_count": null,
   "metadata": {
    "collapsed": false
   },
   "outputs": [],
   "source": [
    "from openrocketdoc import loaders\n",
    "from openrocketdoc import writers\n",
    "from IPython.display import SVG\n",
    "\n",
    "ork = loaders.Openrocket()\n",
    "rocket = ork.load('24mm_minimum_dia.ork')\n",
    "svg = writers.SVG.dump(rocket)\n",
    "\n",
    "SVG(svg)"
   ]
  },
  {
   "cell_type": "markdown",
   "metadata": {},
   "source": [
    "Flight Characteristics\n",
    "----------------------\n",
    "\n"
   ]
  },
  {
   "cell_type": "code",
   "execution_count": null,
   "metadata": {
    "collapsed": false
   },
   "outputs": [],
   "source": [
    "# load csv data\n",
    "time = []\n",
    "altitude = []\n",
    "\n",
    "with open('56-F31-12A_openrocketsim.csv', 'r') as fin:\n",
    "    for line in fin:\n",
    "        if line[0] == '#':\n",
    "            continue\n",
    "        li = line.split(',')\n",
    "        time.append(float(li[0]))\n",
    "        altitude.append(float(li[1]))"
   ]
  },
  {
   "cell_type": "code",
   "execution_count": null,
   "metadata": {
    "collapsed": false
   },
   "outputs": [],
   "source": [
    "print(\"The empty rocket (no motor parts) weighs %0.1f grams.\" % (rocket.mass * 1000.0))"
   ]
  },
  {
   "cell_type": "code",
   "execution_count": null,
   "metadata": {
    "collapsed": false
   },
   "outputs": [],
   "source": [
    "print(\"\"\"Flying on a **[CTI 56-F31-12A](http://www.thrustcurve.org/motorsearch.jsp?id=1041)**\n",
    "would expect and altitude of %0.0f meters.\"\"\" % (max(altitude)))"
   ]
  },
  {
   "cell_type": "markdown",
   "metadata": {},
   "source": []
  }
 ],
 "metadata": {
  "kernelspec": {
   "display_name": "Python 3",
   "language": "python",
   "name": "python3"
  },
  "language_info": {
   "codemirror_mode": {
    "name": "ipython",
    "version": 3
   },
   "file_extension": ".py",
   "mimetype": "text/x-python",
   "name": "python",
   "nbconvert_exporter": "python",
   "pygments_lexer": "ipython3",
   "version": "3.5.2+"
  }
 },
 "nbformat": 4,
 "nbformat_minor": 1
}
